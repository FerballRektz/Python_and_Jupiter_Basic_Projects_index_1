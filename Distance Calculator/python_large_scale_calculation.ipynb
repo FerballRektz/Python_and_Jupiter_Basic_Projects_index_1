{
 "cells": [
  {
   "cell_type": "code",
   "execution_count": 1,
   "metadata": {},
   "outputs": [],
   "source": [
    "import pandas as pd \n",
    "import numpy as np \n",
    "\n",
    "# functions\n",
    "def euc_dist(distance_1,distance_2):\n",
    "    result = 0\n",
    "    for g in range(len(distance_2)):\n",
    "        result += (distance_1[g]-distance_2[g])**2\n",
    "    result**=(1/2)\n",
    "    return result\n",
    "\n",
    "def mann_dist(distance_1,distance_2):\n",
    "     result = 0\n",
    "     for g in range(len(distance_2)):\n",
    "        result += abs(distance_1[g]-distance_2[g])\n",
    "     return result\n",
    "\n",
    "\n",
    "def cheb_dist(distance_1,distance_2):\n",
    "    result = []\n",
    "    for g in range(len(distance_2)):\n",
    "       result.append(abs(distance_1[g]-distance_2[g]))\n",
    "    return max(result)\n",
    "\n",
    "def distance_calculator(distance_matrix,array_names,choose_sort = True):\n",
    "    i = 0    # initialize while loop\n",
    "    # create list for dictionary\n",
    "    euc_values = list()\n",
    "    mann_values = list()\n",
    "    cheb_values = list()\n",
    "    name_combinations = list()\n",
    "\n",
    "    # mapping values \n",
    "    while (i < len(distance_matrix) - 1):\n",
    "        j = i + 1 \n",
    "        while (j < len(distance_matrix)):\n",
    "            name_combinations.append(array_names[i] + '-' + array_names[j])\n",
    "            euc_values.append(euc_dist(distance_matrix[i],distance_matrix[j]))\n",
    "            mann_values.append(mann_dist(distance_matrix[i],distance_matrix[j]))\n",
    "            cheb_values.append(cheb_dist(distance_matrix[i],distance_matrix[j]))\n",
    "            j+=1\n",
    "        i+=1\n",
    "    dict_values = {\"Combinations\": name_combinations, \"Euc_Values\": euc_values, \"Mann_values\": mann_values, \"Cheb_values\": cheb_values}\n",
    "    \n",
    "    # choose what variable to sort at \n",
    "    df = pd.DataFrame(dict_values) \n",
    "    if (choose_sort):\n",
    "        type = int(input(\"Sort by What Value?\\n [1] Euclidean \\n [2] Mannhatan \\n [3] Chebyshev\"))\n",
    "        match (type):\n",
    "            case 1:\n",
    "                df_sorted = df.sort_values(\"Euc_Values\").reset_index(drop= True) #  if you want to print dataframe sorted by Euc_values (ASC order)\n",
    "                return df_sorted\n",
    "            case 2:\n",
    "                df_sorted = df.sort_values(\"Mann_values\").reset_index(drop= True) \n",
    "                return df_sorted\n",
    "            case 3:\n",
    "                df_sorted = df.sort_values(\"Cheb_values\").reset_index(drop= True) \n",
    "                return df_sorted\n",
    "            case _:\n",
    "                print(\"Error: Invalid Input\")\n",
    "    else:\n",
    "        return df "
   ]
  },
  {
   "cell_type": "markdown",
   "metadata": {},
   "source": [
    "### Test 1: No choosing sort"
   ]
  },
  {
   "cell_type": "code",
   "execution_count": 2,
   "metadata": {},
   "outputs": [
    {
     "name": "stdout",
     "output_type": "stream",
     "text": [
      "       Combinations  Euc_Values  Mann_values  Cheb_values\n",
      "0         Mary-Ross   26.038433           40           22\n",
      "1      Mary-Natasha   16.155494           23           14\n",
      "2      Mary-William   25.612497           36           24\n",
      "3        Mary-Marco   15.132746           23           12\n",
      "4        Mary-Diego   24.124676           36           22\n",
      "5      Ross-Natasha   23.216374           27           23\n",
      "6      Ross-William   28.390139           40           26\n",
      "7        Ross-Marco   11.180340           17           10\n",
      "8        Ross-Diego   13.416408           18           12\n",
      "9   Natasha-William   10.440307           13           10\n",
      "10    Natasha-Marco   15.165751           24           13\n",
      "11    Natasha-Diego   28.337255           45           23\n",
      "12    William-Marco   22.737634           37           16\n",
      "13    William-Diego   34.496377           58           26\n",
      "14      Marco-Diego   13.601471           21           10\n"
     ]
    }
   ],
   "source": [
    "def main():\n",
    "    # variable for testing\n",
    "    students = [[73,75,71],[51,62,76],\n",
    "    [74,61,79],[77,51,79],[61,66,73],            \n",
    "    [51,68,64]\n",
    "    ]\n",
    "    student_name = [\"Mary\", \"Ross\", \"Natasha\", \"William\", \"Marco\", \"Diego\"]\n",
    "    print(distance_calculator(students,student_name,False)) # print to show output\n",
    "    \n",
    "if __name__ == \"__main__\":\n",
    "        main()"
   ]
  },
  {
   "cell_type": "markdown",
   "metadata": {},
   "source": [
    "### Test 2: With Choose Sort"
   ]
  },
  {
   "cell_type": "code",
   "execution_count": 3,
   "metadata": {},
   "outputs": [
    {
     "name": "stdout",
     "output_type": "stream",
     "text": [
      "       Combinations  Euc_Values  Mann_values  Cheb_values\n",
      "0        Ross-Marco   11.180340           17           10\n",
      "1   Natasha-William   10.440307           13           10\n",
      "2       Marco-Diego   13.601471           21           10\n",
      "3        Mary-Marco   15.132746           23           12\n",
      "4        Ross-Diego   13.416408           18           12\n",
      "5     Natasha-Marco   15.165751           24           13\n",
      "6      Mary-Natasha   16.155494           23           14\n",
      "7     William-Marco   22.737634           37           16\n",
      "8         Mary-Ross   26.038433           40           22\n",
      "9        Mary-Diego   24.124676           36           22\n",
      "10     Ross-Natasha   23.216374           27           23\n",
      "11    Natasha-Diego   28.337255           45           23\n",
      "12     Mary-William   25.612497           36           24\n",
      "13     Ross-William   28.390139           40           26\n",
      "14    William-Diego   34.496377           58           26\n"
     ]
    }
   ],
   "source": [
    "def main():\n",
    "    # variable for testing\n",
    "    students = [[73,75,71],[51,62,76],\n",
    "    [74,61,79],[77,51,79],[61,66,73],            \n",
    "    [51,68,64]\n",
    "    ]\n",
    "    student_name = [\"Mary\", \"Ross\", \"Natasha\", \"William\", \"Marco\", \"Diego\"]\n",
    "    print(distance_calculator(students,student_name,True)) # print to show output\n",
    "    \n",
    "if __name__ == \"__main__\":\n",
    "        main()"
   ]
  }
 ],
 "metadata": {
  "kernelspec": {
   "display_name": "Python 3",
   "language": "python",
   "name": "python3"
  },
  "language_info": {
   "codemirror_mode": {
    "name": "ipython",
    "version": 3
   },
   "file_extension": ".py",
   "mimetype": "text/x-python",
   "name": "python",
   "nbconvert_exporter": "python",
   "pygments_lexer": "ipython3",
   "version": "3.12.2"
  },
  "orig_nbformat": 4
 },
 "nbformat": 4,
 "nbformat_minor": 2
}
